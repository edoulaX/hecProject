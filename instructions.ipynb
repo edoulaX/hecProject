{
 "cells": [
  {
   "cell_type": "markdown",
   "id": "8b9ee3a9",
   "metadata": {
    "deletable": false,
    "editable": false,
    "nbgrader": {
     "cell_type": "markdown",
     "checksum": "fe955750c0801365f27a35e97027db68",
     "grade": false,
     "grade_id": "cell-b3a9499c65236130",
     "locked": true,
     "schema_version": 3,
     "solution": false,
     "task": false
    }
   },
   "source": [
    "# Projet de groupe\n",
    "\n",
    "Pour ce projet, vous allez devoir travailler en groupe de 5 à 10 étudiants. La composition des groupes est laissée au libre choix des membres. \n",
    "\n",
    "Livrable : un notebook jupyter par groupe qui répond aux 3 étapes détaillées ci-dessous (voir `project_netflix.ipynb`).\n",
    "\n",
    "- le notebook doit contenir la liste de membres du groupe, \n",
    "- votre code python fonctionnel, \n",
    "- des explications de vos choix d'implémentation.\n",
    "\n",
    "Le but de ce travail est d'apprendre à exploiter et à représenter des données avec Python. \n",
    "\n",
    "Chaque membre des groupes qui terminent avec succès le mini projet obtiendra un bonus supplémentaire de 0.3 ajouté à la note d’examen final.\n",
    "\n",
    "<img src=\"images\\warning.png\" alt=\"warning\" width=\"18\" align=\"left\"/> **Si deux groupes ont des solutions trop similaires, nous n’accorderons aucun bonus aux personnes de ces deux groupes.** \n",
    "\n",
    "\n"
   ]
  },
  {
   "cell_type": "markdown",
   "id": "0566dbc9",
   "metadata": {
    "deletable": false,
    "editable": false,
    "nbgrader": {
     "cell_type": "markdown",
     "checksum": "733212fa6a4ccac02e706c0b858b64a6",
     "grade": false,
     "grade_id": "cell-5aac9ee32c32cabf",
     "locked": true,
     "schema_version": 3,
     "solution": false,
     "task": false
    }
   },
   "source": [
    "### Liste des membres du groupe : \n",
    "Merci de compléter cette tableau dans le notebook a rendre en listant les différents auteurs ainsi que leur contribution au projet. \n",
    "\n",
    "Remplacez les infos du tableau :  \n",
    "\n",
    "<strong> Nom du groupe : *Votre nom de groupe*\n",
    "\n",
    "| No d'étudiant    |      Nom      |    Prénom    |    Contribution                                  |\n",
    "|:----------------:|:-------------:|:------------:|:-------------------------------------------------|\n",
    "|  12345678        |  Hélène       | Aztakes      | Préparation des données                          |\n",
    "|  09876543        |  Sarah-Kate   | Aykassée     | Widgets interactifs                              |\n",
    "\n"
   ]
  },
  {
   "cell_type": "markdown",
   "id": "5329e84a",
   "metadata": {
    "deletable": false,
    "editable": false,
    "nbgrader": {
     "cell_type": "markdown",
     "checksum": "b2c7d3dda2b524cea6fea95056d207a0",
     "grade": false,
     "grade_id": "cell-a196eec7ca0665e3",
     "locked": true,
     "schema_version": 3,
     "solution": false,
     "task": false
    }
   },
   "source": [
    "### Critères d'évaluation \n",
    "- capacité à effectuer les 3 étapes, n'hésitez pas à rajouter des fonctionnalités qui vous sembleraient utiles :) \n",
    "- qualité et lisibilité du code (choix des noms de variables, ...)\n",
    "- documentaiton du code (commentaires dans le code ex. # ...)\n",
    "- explications du contexte et de la démarche hors des cellules de code (cellules de type Markdown comme celles-ci, une [guide ici](https://blog.wax-o.com/2014/04/tutoriel-un-guide-pour-bien-commencer-avec-markdown/))\n"
   ]
  },
  {
   "cell_type": "markdown",
   "id": "2ab7ce5e",
   "metadata": {
    "deletable": false,
    "editable": false,
    "nbgrader": {
     "cell_type": "markdown",
     "checksum": "271eba837884242f131d0e8ee539122c",
     "grade": false,
     "grade_id": "cell-5da971df92f22168",
     "locked": true,
     "schema_version": 3,
     "solution": false,
     "task": false
    }
   },
   "source": [
    "### Date limite de soumission et comment soumettre\n",
    "La date de rendu du projet est fixée au ***22 mai 2023 (à minuit)***. Le-la capitaine du groupe effectue le rendu (dans l'onglet **Assignment**, cliquer sur le bouton bleu **Submit**). \n"
   ]
  },
  {
   "cell_type": "markdown",
   "id": "51798a84",
   "metadata": {
    "deletable": false,
    "editable": false,
    "nbgrader": {
     "cell_type": "markdown",
     "checksum": "0cc3bd5b9bd26a6ec21944011f6fb74b",
     "grade": false,
     "grade_id": "cell-fc48c249e1692567",
     "locked": true,
     "schema_version": 3,
     "solution": false,
     "task": false
    }
   },
   "source": [
    "## Présentation\n",
    "\n",
    "Netflix aimerait lancer une nouvelle production et s'interroge sur les choix à faire. Pour aider les producteurs-trices, vous disposez d'une base de données exportée en format CSV avec les différents films ainsi que des informations intéressantes (\"rating\" = score, nombre de votes, genre(s) et star(s)) du film.\n",
    "\n",
    "Netflix aimerait avoir un outil interactif pour trouver les stars les plus intéressant-es. En particulier\n",
    "- le top 10 des films ayant les meilleurs votes\n",
    "- le top 10 des stars\n",
    "- quelles sont les meilleures stars en fonction de certains genres, années, ratings...\n",
    "\n",
    "**Approche**\n",
    "\n",
    "Regardez le module `fonctions_fournies.py` qu'on vous donne. Ne le modifiez pas !"
   ]
  },
  {
   "cell_type": "markdown",
   "id": "5161135b",
   "metadata": {
    "deletable": false,
    "editable": false,
    "nbgrader": {
     "cell_type": "markdown",
     "checksum": "fb9fbaeb80af3102f8108d4a49f3a170",
     "grade": false,
     "grade_id": "cell-63c6cd65bb3194e2",
     "locked": true,
     "schema_version": 3,
     "solution": false,
     "task": false
    }
   },
   "source": [
    "## Étape 1\n",
    "\n",
    "### Se familiariser avec les données \n",
    "\n",
    "#### Requêtes et exploration\n",
    "On vous pose d'abord diverses questions pour que vous vous familiarisiez avec les données :\n",
    "- Le titre et rating du film ayant le plus grand rating. Calculez le rating maximal manuellement ou cherchez le meilleur rating.\n",
    "- Films ayant un rating > 9.0 triés par ordre de rating décroissant, et afficher titre, rating, et nombre de votes\n",
    "- Est-ce que tous les films ont un rating ? Vérifiez car c'est important pour la suite.\n",
    "\n",
    "#### Objectifs :\n",
    "- Importer les données dans le notebook en utilisant la structure de données `DataFrame` de `pandas`,\n",
    "- afficher, filtrer, explorer les données avec Python ...\n",
    "\n",
    "\n",
    "Pour accélérer votre compréhension des données, n'hésitez pas à télécharger les fichiers, à les importer/ouvrir dans votre tableur préféré (Excel...) afin de comprendre comment les données sont organisées"
   ]
  },
  {
   "cell_type": "markdown",
   "id": "478f1527",
   "metadata": {
    "deletable": false,
    "editable": false,
    "nbgrader": {
     "cell_type": "markdown",
     "checksum": "07d09cc2a403ee20d03a93dc85e8f7b7",
     "grade": false,
     "grade_id": "cell-878041fe8b31e4d6",
     "locked": true,
     "schema_version": 3,
     "solution": false,
     "task": false
    }
   },
   "source": [
    "## Étape 2 \n",
    "\n",
    "### Transformation de données\n",
    "\n",
    "- Si on essaie de faire des calculs sur la colonne _votes_, on se rend compte que son formatage pose problème. Regardez pourquoi. Créez une nouvelle colonne _numvotes_ numérique qui enlève ces problèmes\n",
    "- Le top 10 des films ayant les meilleurs votes\n",
    "- Ajouter une colonne _release_year_ avec les années de sortie (quand il y a un couple d'années, il s'agit de la première), en utilisant la fonction fournie release_year(...)\n",
    "\n",
    "\n",
    "#### Objectifs :\n",
    "- Modifier des données fournies pour que leur format soit correcte\n",
    "- Ajouter des colonnes pour répondre aux questions stratégiques qu'on se pose\n",
    "    \n",
    "    \n"
   ]
  },
  {
   "cell_type": "markdown",
   "id": "be29013f",
   "metadata": {
    "deletable": false,
    "editable": false,
    "nbgrader": {
     "cell_type": "markdown",
     "checksum": "61adab185cf2c3c548d743804c35a83f",
     "grade": false,
     "grade_id": "cell-1ff501d9fd0d39ac",
     "locked": true,
     "schema_version": 3,
     "solution": false,
     "task": false
    }
   },
   "source": [
    "## Étape 3\n",
    "### Analyse de données\n",
    "- Regardez comment les _genre_ et _stars_ sont stockés. Cette information va nous être utile pour répondre aux deux questions initiales. Comment trouver la liste de tous les genres possibles ?\n",
    "- On peut simplifier le formatage de la liste des stars en supprimant les éléments suivants :     \n",
    "<pre>unwanted = [\"'\",\"|\",\"Stars:\",\"Star:\",'\"',\"[\",\"]\"]</pre>\n",
    "\n",
    "- Produisez le graphique du top 10 des stars. On le calcule en prenant en compte pour chacune la moyenne de ses ratings, pour peu qu'elle ait au moins 15 ratings. Voici le graphique qu'on aimerait obtenir :\n",
    "![](images/_fig_stars_top15.png)\n",
    "- Produisez le graphique interactif du top 10 des stars, pour une tranche d'années données (les années faisant partie de _release_year_), pour un certain genre (pris parmis tous les _genre_ possibles) et avec au moins un nombre minimal de ratings. Voici le graphique qu'on aimerait obtenir en vous montrant différentes valeurs pour 4 cas possibles :\n",
    "\n",
    "**Figure 1 : on a déplié ici la liste des genres. Il vous faudra la créer automatiquement à partir des valeurs des genres, sans doublons**\n",
    "![](images/_fig_interactif1.png)\n",
    "**Figure 2 : une vue de l'interface quand la liste des genres est repliée**\n",
    "![](images/_fig_interactif2.png)\n",
    "**Figure 3 : divers changements des valeurs pour voir les graphiques**\n",
    "![](images/_fig_interactif3.png)\n",
    "**Figure 4 : idem**\n",
    "![](images/_fig_interactif4.png)\n",
    "\n",
    "#### Objectifs :\n",
    "- Dessiner des graphiques\n",
    "- Utilisation des widgets IPython interactifs pour faires des graphiques interactifs\n",
    "\n",
    "\n",
    "*Attention, certaines combinaisons de filtres n'affichent aucune résultat, c'est tout à fait normal.*\n",
    "\n"
   ]
  }
 ],
 "metadata": {
  "kernelspec": {
   "display_name": "Python 3 (ipykernel)",
   "language": "python",
   "name": "python3"
  },
  "language_info": {
   "codemirror_mode": {
    "name": "ipython",
    "version": 3
   },
   "file_extension": ".py",
   "mimetype": "text/x-python",
   "name": "python",
   "nbconvert_exporter": "python",
   "pygments_lexer": "ipython3",
   "version": "3.10.8"
  },
  "toc-autonumbering": false,
  "toc-showmarkdowntxt": false
 },
 "nbformat": 4,
 "nbformat_minor": 5
}
